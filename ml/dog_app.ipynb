{
 "cells": [
  {
   "cell_type": "markdown",
   "metadata": {},
   "source": [
    "# Artificial Intelligence Nanodegree\n",
    "\n",
    "## Convolutional Neural Networks\n",
    "\n",
    "## Project: Write an Algorithm for a Dog Identification App \n",
    "\n",
    "---\n",
    "\n",
    "In this notebook, some template code has already been provided for you, and you will need to implement additional functionality to successfully complete this project. You will not need to modify the included code beyond what is requested. Sections that begin with **'(IMPLEMENTATION)'** in the header indicate that the following block of code will require additional functionality which you must provide. Instructions will be provided for each section, and the specifics of the implementation are marked in the code block with a 'TODO' statement. Please be sure to read the instructions carefully! \n",
    "\n",
    "> **Note**: Once you have completed all of the code implementations, you need to finalize your work by exporting the iPython Notebook as an HTML document. Before exporting the notebook to html, all of the code cells need to have been run so that reviewers can see the final implementation and output. You can then export the notebook by using the menu above and navigating to  \\n\",\n",
    "    \"**File -> Download as -> HTML (.html)**. Include the finished document along with this notebook as your submission.\n",
    "\n",
    "In addition to implementing code, there will be questions that you must answer which relate to the project and your implementation. Each section where you will answer a question is preceded by a **'Question X'** header. Carefully read each question and provide thorough answers in the following text boxes that begin with **'Answer:'**. Your project submission will be evaluated based on your answers to each of the questions and the implementation you provide.\n",
    "\n",
    ">**Note:** Code and Markdown cells can be executed using the **Shift + Enter** keyboard shortcut.  Markdown cells can be edited by double-clicking the cell to enter edit mode.\n",
    "\n",
    "The rubric contains _optional_ \"Stand Out Suggestions\" for enhancing the project beyond the minimum requirements. If you decide to pursue the \"Stand Out Suggestions\", you should include the code in this IPython notebook.\n",
    "\n",
    "\n",
    "\n",
    "---\n",
    "### Why We're Here \n",
    "\n",
    "In this notebook, you will make the first steps towards developing an algorithm that could be used as part of a mobile or web app.  At the end of this project, your code will accept any user-supplied image as input.  If a dog is detected in the image, it will provide an estimate of the dog's breed.  If a human is detected, it will provide an estimate of the dog breed that is most resembling.  The image below displays potential sample output of your finished project (... but we expect that each student's algorithm will behave differently!). \n",
    "\n",
    "![Sample Dog Output](images/sample_dog_output.png)\n",
    "\n",
    "In this real-world setting, you will need to piece together a series of models to perform different tasks; for instance, the algorithm that detects humans in an image will be different from the CNN that infers dog breed.  There are many points of possible failure, and no perfect algorithm exists.  Your imperfect solution will nonetheless create a fun user experience!\n",
    "\n",
    "### The Road Ahead\n",
    "\n",
    "We break the notebook into separate steps.  Feel free to use the links below to navigate the notebook.\n",
    "\n",
    "* [Step 0](#step0): Import Datasets\n",
    "* [Step 1](#step1): Detect Humans\n",
    "* [Step 2](#step2): Detect Dogs\n",
    "* [Step 3](#step3): Create a CNN to Classify Dog Breeds (from Scratch)\n",
    "* [Step 4](#step4): Use a CNN to Classify Dog Breeds (using Transfer Learning)\n",
    "* [Step 5](#step5): Create a CNN to Classify Dog Breeds (using Transfer Learning)\n",
    "* [Step 6](#step6): Write your Algorithm\n",
    "* [Step 7](#step7): Test Your Algorithm\n",
    "\n",
    "---\n",
    "<a id='step0'></a>\n",
    "## Step 0: Import Datasets\n",
    "\n",
    "### Import Dog Dataset\n",
    "\n",
    "In the code cell below, we import a dataset of dog images.  We populate a few variables through the use of the `load_files` function from the scikit-learn library:\n",
    "- `train_files`, `valid_files`, `test_files` - numpy arrays containing file paths to images\n",
    "- `train_targets`, `valid_targets`, `test_targets` - numpy arrays containing onehot-encoded classification labels \n",
    "- `dog_names` - list of string-valued dog breed names for translating labels"
   ]
  },
  {
   "cell_type": "code",
   "execution_count": 4,
   "metadata": {},
   "outputs": [
    {
     "name": "stdout",
     "output_type": "stream",
     "text": [
      "There are 133 total dog categories.\n",
      "There are 8351 total dog images.\n",
      "\n",
      "There are 6680 training dog images.\n",
      "There are 835 validation dog images.\n",
      "There are 836 test dog images.\n"
     ]
    }
   ],
   "source": [
    "from sklearn.datasets import load_files       \n",
    "from keras.utils import np_utils\n",
    "import numpy as np\n",
    "from glob import glob\n",
    "\n",
    "# define function to load train, test, and validation datasets\n",
    "def load_dataset(path):\n",
    "    data = load_files(path)\n",
    "    dog_files = np.array(data['filenames'])\n",
    "    dog_targets = np_utils.to_categorical(np.array(data['target']), 133)\n",
    "    return dog_files, dog_targets\n",
    "\n",
    "# load train, test, and validation datasets\n",
    "train_files, train_targets = load_dataset('dogImages/train')\n",
    "valid_files, valid_targets = load_dataset('dogImages/valid')\n",
    "test_files, test_targets = load_dataset('dogImages/test')\n",
    "\n",
    "# load list of dog names\n",
    "dog_names = [item[20:-1] for item in sorted(glob(\"dogImages/train/*/\"))]\n",
    "\n",
    "# print statistics about the dataset\n",
    "print('There are %d total dog categories.' % len(dog_names))\n",
    "print('There are %s total dog images.\\n' % len(np.hstack([train_files, valid_files, test_files])))\n",
    "print('There are %d training dog images.' % len(train_files))\n",
    "print('There are %d validation dog images.' % len(valid_files))\n",
    "print('There are %d test dog images.'% len(test_files))"
   ]
  },
  {
   "cell_type": "markdown",
   "metadata": {},
   "source": [
    "### Import Human Dataset\n",
    "\n",
    "In the code cell below, we import a dataset of human images, where the file paths are stored in the numpy array `human_files`."
   ]
  },
  {
   "cell_type": "code",
   "execution_count": 5,
   "metadata": {},
   "outputs": [
    {
     "name": "stdout",
     "output_type": "stream",
     "text": [
      "There are 13233 total human images.\n"
     ]
    }
   ],
   "source": [
    "import random\n",
    "random.seed(8675309)\n",
    "\n",
    "# load filenames in shuffled human dataset\n",
    "human_files = np.array(glob(\"lfw/*/*\"))\n",
    "random.shuffle(human_files)\n",
    "\n",
    "# print statistics about the dataset\n",
    "print('There are %d total human images.' % len(human_files))"
   ]
  },
  {
   "cell_type": "markdown",
   "metadata": {},
   "source": [
    "---\n",
    "<a id='step1'></a>\n",
    "## Step 1: Detect Humans\n",
    "\n",
    "We use OpenCV's implementation of [Haar feature-based cascade classifiers](http://docs.opencv.org/trunk/d7/d8b/tutorial_py_face_detection.html) to detect human faces in images.  OpenCV provides many pre-trained face detectors, stored as XML files on [github](https://github.com/opencv/opencv/tree/master/data/haarcascades).  We have downloaded one of these detectors and stored it in the `haarcascades` directory.\n",
    "\n",
    "In the next code cell, we demonstrate how to use this detector to find human faces in a sample image."
   ]
  },
  {
   "cell_type": "code",
   "execution_count": 6,
   "metadata": {},
   "outputs": [
    {
     "name": "stdout",
     "output_type": "stream",
     "text": [
      "Number of faces detected: 1\n"
     ]
    },
    {
     "data": {
      "image/png": "[encoded data removed]",
      "text/plain": [
       "<matplotlib.figure.Figure at 0x7fd5ae89d3c8>"
      ]
     },
     "metadata": {},
     "output_type": "display_data"
    }
   ],
   "source": [
    "import cv2                \n",
    "import matplotlib.pyplot as plt                        \n",
    "%matplotlib inline                               \n",
    "\n",
    "# extract pre-trained face detector\n",
    "face_cascade = cv2.CascadeClassifier('haarcascades/haarcascade_frontalface_alt.xml')\n",
    "\n",
    "# load color (BGR) image\n",
    "img = cv2.imread(human_files[2])\n",
    "# convert BGR image to grayscale\n",
    "gray = cv2.cvtColor(img, cv2.COLOR_BGR2GRAY)\n",
    "\n",
    "# find faces in image\n",
    "faces = face_cascade.detectMultiScale(gray)\n",
    "\n",
    "# print number of faces detected in the image\n",
    "print('Number of faces detected:', len(faces))\n",
    "\n",
    "# get bounding box for each detected face\n",
    "for (x,y,w,h) in faces:\n",
    "    # add bounding box to color image\n",
    "    cv2.rectangle(img,(x,y),(x+w,y+h),(255,0,0),2)\n",
    "    \n",
    "# convert BGR image to RGB for plotting\n",
    "cv_rgb = cv2.cvtColor(img, cv2.COLOR_BGR2RGB)\n",
    "\n",
    "# display the image, along with bounding box\n",
    "plt.imshow(cv_rgb)\n",
    "plt.show()"
   ]
  },
  {
   "cell_type": "markdown",
   "metadata": {},
   "source": [
    "Before using any of the face detectors, it is standard procedure to convert the images to grayscale.  The `detectMultiScale` function executes the classifier stored in `face_cascade` and takes the grayscale image as a parameter.  \n",
    "\n",
    "In the above code, `faces` is a numpy array of detected faces, where each row corresponds to a detected face.  Each detected face is a 1D array with four entries that specifies the bounding box of the detected face.  The first two entries in the array (extracted in the above code as `x` and `y`) specify the horizontal and vertical positions of the top left corner of the bounding box.  The last two entries in the array (extracted here as `w` and `h`) specify the width and height of the box.\n",
    "\n",
    "### Write a Human Face Detector\n",
    "\n",
    "We can use this procedure to write a function that returns `True` if a human face is detected in an image and `False` otherwise.  This function, aptly named `face_detector`, takes a string-valued file path to an image as input and appears in the code block below."
   ]
  },
  {
   "cell_type": "code",
   "execution_count": 7,
   "metadata": {},
   "outputs": [],
   "source": [
    "# returns \"True\" if face is detected in image stored at img_path\n",
    "def face_detector(img_path):\n",
    "    img = cv2.imread(img_path)\n",
    "    gray = cv2.cvtColor(img, cv2.COLOR_BGR2GRAY)\n",
    "    faces = face_cascade.detectMultiScale(gray)\n",
    "    return len(faces) > 0"
   ]
  },
  {
   "cell_type": "markdown",
   "metadata": {},
   "source": [
    "### (IMPLEMENTATION) Assess the Human Face Detector\n",
    "\n",
    "__Question 1:__ Use the code cell below to test the performance of the `face_detector` function.  \n",
    "- What percentage of the first 100 images in `human_files` have a detected human face?  \n",
    "- What percentage of the first 100 images in `dog_files` have a detected human face? \n",
    "\n",
    "Ideally, we would like 100% of human images with a detected face and 0% of dog images with a detected face.  You will see that our algorithm falls short of this goal, but still gives acceptable performance.  We extract the file paths for the first 100 images from each of the datasets and store them in the numpy arrays `human_files_short` and `dog_files_short`.\n",
    "\n",
    "__Answer:__  \n",
    "the percentage of the 1st 100 human images have a detected human face:1.0  \n",
    "the percentage of the 1st 100 dog images have a detected human face:0.11"
   ]
  },
  {
   "cell_type": "code",
   "execution_count": 8,
   "metadata": {},
   "outputs": [
    {
     "name": "stdout",
     "output_type": "stream",
     "text": [
      "the percentage of the 1st 100 human images have a detected human face:1.0\n",
      "the percentage of the 1st 100 dog images have a detected human face:0.11\n"
     ]
    }
   ],
   "source": [
    "human_files_short = human_files[:100]\n",
    "dog_files_short = train_files[:100]\n",
    "# Do NOT modify the code above this line.\n",
    "\n",
    "## TODO: Test the performance of the face_detector algorithm \n",
    "## on the images in human_files_short and dog_files_short.\n",
    "hface_detects = 0\n",
    "for human in human_files_short:\n",
    "    hface_detects += face_detector(human)\n",
    "\n",
    "print(\"the percentage of the 1st 100 human images have a detected human face:{}\".format(hface_detects/100))\n",
    "\n",
    "dface_detects = 0\n",
    "for dog in dog_files_short:\n",
    "    dface_detects += face_detector(dog)\n",
    "\n",
    "print(\"the percentage of the 1st 100 dog images have a detected human face:{}\".format(dface_detects/100))   "
   ]
  },
  {
   "cell_type": "markdown",
   "metadata": {},
   "source": [
    "__Question 2:__ This algorithmic choice necessitates that we communicate to the user that we accept human images only when they provide a clear view of a face (otherwise, we risk having unneccessarily frustrated users!). In your opinion, is this a reasonable expectation to pose on the user? If not, can you think of a way to detect humans in images that does not necessitate an image with a clearly presented face?\n",
    "\n",
    "__Answer:__  \n",
    "For the Haar Cascades human face detector, a clear face is necessary to make it a realiable detectors. But this is not a reasonable expectation to pose on the user since in a lot of cases when humans are presented in the images, it might not have a clear view of the face. To use an alternative way to detect humans in images that does not necessitate an image with a clearly presented face, one needs to use a human dector that is not rely only on shape detections on the face, for example, a deep neuralnet that learns to dectet the body features of a human, or the head shape of a human or the shape of the hair of a human.  \n",
    "\n",
    "\n",
    "\n",
    "We suggest the face detector from OpenCV as a potential way to detect human images in your algorithm, but you are free to explore other approaches, especially approaches that make use of deep learning :).  Please use the code cell below to design and test your own face detection algorithm.  If you decide to pursue this _optional_ task, report performance on each of the datasets."
   ]
  },
  {
   "cell_type": "code",
   "execution_count": null,
   "metadata": {
    "collapsed": true
   },
   "outputs": [],
   "source": [
    "## (Optional) TODO: Report the performance of another  \n",
    "## face detection algorithm on the LFW dataset\n",
    "### Feel free to use as many code cells as needed."
   ]
  },
  {
   "cell_type": "markdown",
   "metadata": {},
   "source": [
    "---\n",
    "<a id='step2'></a>\n",
    "## Step 2: Detect Dogs\n",
    "\n",
    "In this section, we use a pre-trained [ResNet-50](http://ethereon.github.io/netscope/#/gist/db945b393d40bfa26006) model to detect dogs in images.  Our first line of code downloads the ResNet-50 model, along with weights that have been trained on [ImageNet](http://www.image-net.org/), a very large, very popular dataset used for image classification and other vision tasks.  ImageNet contains over 10 million URLs, each linking to an image containing an object from one of [1000 categories](https://gist.github.com/yrevar/942d3a0ac09ec9e5eb3a).  Given an image, this pre-trained ResNet-50 model returns a prediction (derived from the available categories in ImageNet) for the object that is contained in the image."
   ]
  },
  {
   "cell_type": "code",
   "execution_count": 9,
   "metadata": {},
   "outputs": [
    {
     "name": "stdout",
     "output_type": "stream",
     "text": [
      "Downloading data from https://github.com/fchollet/deep-learning-models/releases/download/v0.2/resnet50_weights_tf_dim_ordering_tf_kernels.h5\n",
      "102858752/102853048 [==============================] - 1s 0us/step\n"
     ]
    }
   ],
   "source": [
    "from keras.applications.resnet50 import ResNet50\n",
    "\n",
    "# define ResNet50 model\n",
    "ResNet50_model = ResNet50(weights='imagenet')"
   ]
  },
  {
   "cell_type": "markdown",
   "metadata": {},
   "source": [
    "### Pre-process the Data\n",
    "\n",
    "When using TensorFlow as backend, Keras CNNs require a 4D array (which we'll also refer to as a 4D tensor) as input, with shape\n",
    "\n",
    "$$\n",
    "(\\text{nb_samples}, \\text{rows}, \\text{columns}, \\text{channels}),\n",
    "$$\n",
    "\n",
    "where `nb_samples` corresponds to the total number of images (or samples), and `rows`, `columns`, and `channels` correspond to the number of rows, columns, and channels for each image, respectively.  \n",
    "\n",
    "The `path_to_tensor` function below takes a string-valued file path to a color image as input and returns a 4D tensor suitable for supplying to a Keras CNN.  The function first loads the image and resizes it to a square image that is $224 \\times 224$ pixels.  Next, the image is converted to an array, which is then resized to a 4D tensor.  In this case, since we are working with color images, each image has three channels.  Likewise, since we are processing a single image (or sample), the returned tensor will always have shape\n",
    "\n",
    "$$\n",
    "(1, 224, 224, 3).\n",
    "$$\n",
    "\n",
    "The `paths_to_tensor` function takes a numpy array of string-valued image paths as input and returns a 4D tensor with shape \n",
    "\n",
    "$$\n",
    "(\\text{nb_samples}, 224, 224, 3).\n",
    "$$\n",
    "\n",
    "Here, `nb_samples` is the number of samples, or number of images, in the supplied array of image paths.  It is best to think of `nb_samples` as the number of 3D tensors (where each 3D tensor corresponds to a different image) in your dataset!"
   ]
  },
  {
   "cell_type": "code",
   "execution_count": 10,
   "metadata": {},
   "outputs": [],
   "source": [
    "from keras.preprocessing import image                  \n",
    "from tqdm import tqdm\n",
    "\n",
    "def path_to_tensor(img_path):\n",
    "    # loads RGB image as PIL.Image.Image type\n",
    "    img = image.load_img(img_path, target_size=(224, 224))\n",
    "    # convert PIL.Image.Image type to 3D tensor with shape (224, 224, 3)\n",
    "    x = image.img_to_array(img)\n",
    "    # convert 3D tensor to 4D tensor with shape (1, 224, 224, 3) and return 4D tensor\n",
    "    return np.expand_dims(x, axis=0)\n",
    "\n",
    "def paths_to_tensor(img_paths):\n",
    "    list_of_tensors = [path_to_tensor(img_path) for img_path in tqdm(img_paths)]\n",
    "    return np.vstack(list_of_tensors)"
   ]
  },
  {
   "cell_type": "code",
   "execution_count": 8,
   "metadata": {},
   "outputs": [
    {
     "name": "stdout",
     "output_type": "stream",
     "text": [
      "dogImages/test/059.Doberman_pinscher/Doberman_pinscher_04156.jpg\n"
     ]
    }
   ],
   "source": [
    "print(test_files[1])"
   ]
  },
  {
   "cell_type": "markdown",
   "metadata": {},
   "source": [
    "### Making Predictions with ResNet-50\n",
    "\n",
    "Getting the 4D tensor ready for ResNet-50, and for any other pre-trained model in Keras, requires some additional processing.  First, the RGB image is converted to BGR by reordering the channels.  All pre-trained models have the additional normalization step that the mean pixel (expressed in RGB as $[103.939, 116.779, 123.68]$ and calculated from all pixels in all images in ImageNet) must be subtracted from every pixel in each image.  This is implemented in the imported function `preprocess_input`.  If you're curious, you can check the code for `preprocess_input` [here](https://github.com/fchollet/keras/blob/master/keras/applications/imagenet_utils.py).\n",
    "\n",
    "Now that we have a way to format our image for supplying to ResNet-50, we are now ready to use the model to extract the predictions.  This is accomplished with the `predict` method, which returns an array whose $i$-th entry is the model's predicted probability that the image belongs to the $i$-th ImageNet category.  This is implemented in the `ResNet50_predict_labels` function below.\n",
    "\n",
    "By taking the argmax of the predicted probability vector, we obtain an integer corresponding to the model's predicted object class, which we can identify with an object category through the use of this [dictionary](https://gist.github.com/yrevar/942d3a0ac09ec9e5eb3a). "
   ]
  },
  {
   "cell_type": "code",
   "execution_count": 11,
   "metadata": {},
   "outputs": [],
   "source": [
    "from keras.applications.resnet50 import preprocess_input, decode_predictions\n",
    "\n",
    "def ResNet50_predict_labels(img_path):\n",
    "    # returns prediction vector for image located at img_path\n",
    "    img = preprocess_input(path_to_tensor(img_path))\n",
    "    return np.argmax(ResNet50_model.predict(img))"
   ]
  },
  {
   "cell_type": "markdown",
   "metadata": {},
   "source": [
    "### Write a Dog Detector\n",
    "\n",
    "While looking at the [dictionary](https://gist.github.com/yrevar/942d3a0ac09ec9e5eb3a), you will notice that the categories corresponding to dogs appear in an uninterrupted sequence and correspond to dictionary keys 151-268, inclusive, to include all categories from `'Chihuahua'` to `'Mexican hairless'`.  Thus, in order to check to see if an image is predicted to contain a dog by the pre-trained ResNet-50 model, we need only check if the `ResNet50_predict_labels` function above returns a value between 151 and 268 (inclusive).\n",
    "\n",
    "We use these ideas to complete the `dog_detector` function below, which returns `True` if a dog is detected in an image (and `False` if not)."
   ]
  },
  {
   "cell_type": "code",
   "execution_count": 12,
   "metadata": {},
   "outputs": [],
   "source": [
    "### returns \"True\" if a dog is detected in the image stored at img_path\n",
    "def dog_detector(img_path):\n",
    "    prediction = ResNet50_predict_labels(img_path)\n",
    "    return ((prediction <= 268) & (prediction >= 151)) "
   ]
  },
  {
   "cell_type": "markdown",
   "metadata": {},
   "source": [
    "### (IMPLEMENTATION) Assess the Dog Detector\n",
    "\n",
    "__Question 3:__ Use the code cell below to test the performance of your `dog_detector` function.  \n",
    "- What percentage of the images in `human_files_short` have a detected dog?  \n",
    "- What percentage of the images in `dog_files_short` have a detected dog?\n",
    "\n",
    "__Answer:__  \n",
    "the percentage of the 1st 100 human images detected as a dog:0.0  \n",
    "the percentage of the 1st 100 dog images detected as a dog:1.0"
   ]
  },
  {
   "cell_type": "code",
   "execution_count": 13,
   "metadata": {},
   "outputs": [
    {
     "name": "stdout",
     "output_type": "stream",
     "text": [
      "the percentage of the 1st 100 human images detected as a dog:0.0\n",
      "the percentage of the 1st 100 dog images detected as a dog:1.0\n"
     ]
    }
   ],
   "source": [
    "### TODO: Test the performance of the dog_detector function\n",
    "### on the images in human_files_short and dog_files_short.\n",
    "\n",
    "human_files_short = human_files[:100]\n",
    "dog_files_short = train_files[:100]\n",
    "# Do NOT modify the code above this line.\n",
    "\n",
    "## TODO: Test the performance of the face_detector algorithm \n",
    "## on the images in human_files_short and dog_files_short.\n",
    "hface_detects = 0\n",
    "for human in human_files_short:\n",
    "    hface_detects += dog_detector(human)\n",
    "\n",
    "print(\"the percentage of the 1st 100 human images detected as a dog:{}\".format(hface_detects/100))\n",
    "\n",
    "dface_detects = 0\n",
    "for dog in dog_files_short:\n",
    "    dface_detects += dog_detector(dog)\n",
    "\n",
    "print(\"the percentage of the 1st 100 dog images detected as a dog:{}\".format(dface_detects/100))   "
   ]
  },
  {
   "cell_type": "markdown",
   "metadata": {},
   "source": [
    "---\n",
    "<a id='step3'></a>\n",
    "## Step 3: Create a CNN to Classify Dog Breeds (from Scratch)\n",
    "\n",
    "Now that we have functions for detecting humans and dogs in images, we need a way to predict breed from images.  In this step, you will create a CNN that classifies dog breeds.  You must create your CNN _from scratch_ (so, you can't use transfer learning _yet_!), and you must attain a test accuracy of at least 1%.  In Step 5 of this notebook, you will have the opportunity to use transfer learning to create a CNN that attains greatly improved accuracy.\n",
    "\n",
    "Be careful with adding too many trainable layers!  More parameters means longer training, which means you are more likely to need a GPU to accelerate the training process.  Thankfully, Keras provides a handy estimate of the time that each epoch is likely to take; you can extrapolate this estimate to figure out how long it will take for your algorithm to train. \n",
    "\n",
    "We mention that the task of assigning breed to dogs from images is considered exceptionally challenging.  To see why, consider that *even a human* would have great difficulty in distinguishing between a Brittany and a Welsh Springer Spaniel.  \n",
    "\n",
    "Brittany | Welsh Springer Spaniel\n",
    "- | - \n",
    "<img src=\"images/Brittany_02625.jpg\" width=\"100\"> | <img src=\"images/Welsh_springer_spaniel_08203.jpg\" width=\"200\">\n",
    "\n",
    "It is not difficult to find other dog breed pairs with minimal inter-class variation (for instance, Curly-Coated Retrievers and American Water Spaniels).  \n",
    "\n",
    "Curly-Coated Retriever | American Water Spaniel\n",
    "- | -\n",
    "<img src=\"images/Curly-coated_retriever_03896.jpg\" width=\"200\"> | <img src=\"images/American_water_spaniel_00648.jpg\" width=\"200\">\n",
    "\n",
    "\n",
    "Likewise, recall that labradors come in yellow, chocolate, and black.  Your vision-based algorithm will have to conquer this high intra-class variation to determine how to classify all of these different shades as the same breed.  \n",
    "\n",
    "Yellow Labrador | Chocolate Labrador | Black Labrador\n",
    "- | -\n",
    "<img src=\"images/Labrador_retriever_06457.jpg\" width=\"150\"> | <img src=\"images/Labrador_retriever_06455.jpg\" width=\"240\"> | <img src=\"images/Labrador_retriever_06449.jpg\" width=\"220\">\n",
    "\n",
    "We also mention that random chance presents an exceptionally low bar: setting aside the fact that the classes are slightly imabalanced, a random guess will provide a correct answer roughly 1 in 133 times, which corresponds to an accuracy of less than 1%.  \n",
    "\n",
    "Remember that the practice is far ahead of the theory in deep learning.  Experiment with many different architectures, and trust your intuition.  And, of course, have fun! \n",
    "\n",
    "### Pre-process the Data\n",
    "\n",
    "We rescale the images by dividing every pixel in every image by 255."
   ]
  },
  {
   "cell_type": "code",
   "execution_count": 14,
   "metadata": {},
   "outputs": [
    {
     "name": "stderr",
     "output_type": "stream",
     "text": [
      "100%|██████████| 6680/6680 [01:12<00:00, 91.57it/s] \n",
      "100%|██████████| 835/835 [00:08<00:00, 102.25it/s]\n",
      "100%|██████████| 836/836 [00:08<00:00, 102.51it/s]\n"
     ]
    }
   ],
   "source": [
    "from PIL import ImageFile                            \n",
    "ImageFile.LOAD_TRUNCATED_IMAGES = True                 \n",
    "\n",
    "# pre-process the data for Keras\n",
    "train_tensors = paths_to_tensor(train_files).astype('float32')/255\n",
    "valid_tensors = paths_to_tensor(valid_files).astype('float32')/255\n",
    "test_tensors = paths_to_tensor(test_files).astype('float32')/255"
   ]
  },
  {
   "cell_type": "markdown",
   "metadata": {},
   "source": [
    "### (IMPLEMENTATION) Model Architecture\n",
    "\n",
    "Create a CNN to classify dog breed.  At the end of your code cell block, summarize the layers of your model by executing the line:\n",
    "    \n",
    "        model.summary()\n",
    "\n",
    "We have imported some Python modules to get you started, but feel free to import as many modules as you need.  If you end up getting stuck, here's a hint that specifies a model that trains relatively fast on CPU and attains >1% test accuracy in 5 epochs:\n",
    "\n",
    "![Sample CNN](images/sample_cnn.png)\n",
    "           \n",
    "__Question 4:__ Outline the steps you took to get to your final CNN architecture and your reasoning at each step.  If you chose to use the hinted architecture above, describe why you think that CNN architecture should work well for the image classification task.\n",
    "\n",
    "__Answer:__  \n",
    "I started first by reading online literatures about different existing famous ConvNets and found a good article:  \n",
    "http://cv-tricks.com/cnn/understand-resnet-alexnet-vgg-inception/\n",
    "\n",
    "I decided to take the approach of VGG16 net by stacking multiple layers with small size kernel and gradually increase the size of the channel of each layer. The advantage of this approach is that multiple stacked smaller size kernel is better than the one with a larger size kernel because multiple non-linear layers increases the depth of the network, making it to learn more complex features, and that too at a lower cost. With less number of weights to train, multile stacked filters with smaller size kernel can achive the same recpetive size as a single filter with a larger size kernel layer. Dropout is also used to prevent overfitting, but based on the only ~ 1% precision of the model, overfitting is not the major concern.\n",
    "\n",
    "2nd feature I did is near the end of the network, instead of using Flatten, a GlobalAveragePooling or a GlobalMaxPooling layer is used to convert the 3D layer into 1D layer. This reduces the parameters of the model compared to a Flatten layer approach. Between \"Average\" and \"Max\", GlobalAveragePooling layer provides better prediction.\n",
    "\n",
    "3rd feature I added is to use the LSUV_init implemntation from the papaer \"All you need is a good init\": https://arxiv.org/abs/1511.06422  \n",
    "Overall the LSUV init approach helps to provide a better weight initianization, which is much less computation load compared to Batch Normalization. The details of algorithm will be a future topic for me to learn.\n",
    "\n",
    "4th feature I used is the data aumentation, ImageDataGenerator is used to generate more dataset. This should help to generaize the model more and prevent the overfitting issues. In my current model with a low prediction only 10 training epocs, \n"
   ]
  },
  {
   "cell_type": "code",
   "execution_count": 15,
   "metadata": {},
   "outputs": [],
   "source": [
    "# LSUV_init implementation, copy the code directly from \n",
    "# https://github.com/ducha-aiki/LSUVinit/blob/master/tools/extra/lsuv_init.py\n",
    "\n",
    "from __future__ import print_function\n",
    "import numpy as np\n",
    "from keras.models import Model\n",
    "from keras.layers import Dense, Convolution2D\n",
    "\n",
    "\n",
    "def svd_orthonormal(shape):\n",
    "    # Orthonorm init code is taked from Lasagne\n",
    "    # https://github.com/Lasagne/Lasagne/blob/master/lasagne/init.py\n",
    "    if len(shape) < 2:\n",
    "        raise RuntimeError(\"Only shapes of length 2 or more are supported.\")\n",
    "    flat_shape = (shape[0], np.prod(shape[1:]))\n",
    "    a = np.random.standard_normal(flat_shape)\n",
    "    u, _, v = np.linalg.svd(a, full_matrices=False)\n",
    "    q = u if u.shape == flat_shape else v\n",
    "    q = q.reshape(shape)\n",
    "    return q\n",
    "\n",
    "\n",
    "def get_activations(model, layer, X_batch):\n",
    "    intermediate_layer_model = Model(\n",
    "        inputs=model.get_input_at(0),\n",
    "        outputs=layer.get_output_at(0)\n",
    "    )\n",
    "    activations = intermediate_layer_model.predict(X_batch)\n",
    "    return activations\n",
    "\n",
    "\n",
    "def LSUVinit(model, batch, verbose=True, margin=0.1, max_iter=10):\n",
    "    # only these layer classes considered for LSUV initialization; add more if needed\n",
    "    classes_to_consider = (Dense, Convolution2D)\n",
    "\n",
    "    needed_variance = 1.0\n",
    "\n",
    "    layers_inintialized = 0\n",
    "    for layer in model.layers:\n",
    "        if verbose:\n",
    "            print(layer.name)\n",
    "        if not isinstance(layer, classes_to_consider):\n",
    "            continue\n",
    "        # avoid small layers where activation variance close to zero, esp. for small batches\n",
    "        if np.prod(layer.get_output_shape_at(0)[1:]) < 32:\n",
    "            if verbose:\n",
    "                print(layer.name, 'too small')\n",
    "            continue\n",
    "        if verbose:\n",
    "            print('LSUV initializing', layer.name)\n",
    "\n",
    "        layers_inintialized += 1\n",
    "        weights, biases = layer.get_weights()\n",
    "        weights = svd_orthonormal(weights.shape)\n",
    "        layer.set_weights([weights, biases])\n",
    "        activations = get_activations(model, layer, batch)\n",
    "        variance = np.var(activations)\n",
    "        iteration = 0\n",
    "        if verbose:\n",
    "            print(variance)\n",
    "        while abs(needed_variance - variance) > margin:\n",
    "            if np.abs(np.sqrt(variance)) < 1e-7:\n",
    "                # avoid zero division\n",
    "                break\n",
    "\n",
    "            weights, biases = layer.get_weights()\n",
    "            weights /= np.sqrt(variance) / np.sqrt(needed_variance)\n",
    "            layer.set_weights([weights, biases])\n",
    "            activations = get_activations(model, layer, batch)\n",
    "            variance = np.var(activations)\n",
    "\n",
    "            iteration += 1\n",
    "            if verbose:\n",
    "                print(variance)\n",
    "            if iteration >= max_iter:\n",
    "                break\n",
    "    if verbose:\n",
    "        print('LSUV: total layers initialized', layers_inintialized)\n",
    "    return model"
   ]
  },
  {
   "cell_type": "code",
   "execution_count": 17,
   "metadata": {},
   "outputs": [
    {
     "data": {
      "text/plain": [
       "(224, 224, 3)"
      ]
     },
     "execution_count": 17,
     "metadata": {},
     "output_type": "execute_result"
    }
   ],
   "source": [
    "train_tensors.shape[1:]"
   ]
  },
  {
   "cell_type": "code",
   "execution_count": 22,
   "metadata": {},
   "outputs": [
    {
     "name": "stdout",
     "output_type": "stream",
     "text": [
      "_________________________________________________________________\n",
      "Layer (type)                 Output Shape              Param #   \n",
      "=================================================================\n",
      "conv2d_15 (Conv2D)           (None, 224, 224, 32)      896       \n",
      "_________________________________________________________________\n",
      "activation_68 (Activation)   (None, 224, 224, 32)      0         \n",
      "_________________________________________________________________\n",
      "conv2d_16 (Conv2D)           (None, 224, 224, 32)      9248      \n",
      "_________________________________________________________________\n",
      "activation_69 (Activation)   (None, 224, 224, 32)      0         \n",
      "_________________________________________________________________\n",
      "conv2d_17 (Conv2D)           (None, 224, 224, 64)      18496     \n",
      "_________________________________________________________________\n",
      "activation_70 (Activation)   (None, 224, 224, 64)      0         \n",
      "_________________________________________________________________\n",
      "conv2d_18 (Conv2D)           (None, 224, 224, 64)      36928     \n",
      "_________________________________________________________________\n",
      "activation_71 (Activation)   (None, 224, 224, 64)      0         \n",
      "_________________________________________________________________\n",
      "max_pooling2d_6 (MaxPooling2 (None, 112, 112, 64)      0         \n",
      "_________________________________________________________________\n",
      "dropout_9 (Dropout)          (None, 112, 112, 64)      0         \n",
      "_________________________________________________________________\n",
      "conv2d_19 (Conv2D)           (None, 112, 112, 128)     73856     \n",
      "_________________________________________________________________\n",
      "activation_72 (Activation)   (None, 112, 112, 128)     0         \n",
      "_________________________________________________________________\n",
      "conv2d_20 (Conv2D)           (None, 112, 112, 128)     147584    \n",
      "_________________________________________________________________\n",
      "activation_73 (Activation)   (None, 112, 112, 128)     0         \n",
      "_________________________________________________________________\n",
      "max_pooling2d_7 (MaxPooling2 (None, 56, 56, 128)       0         \n",
      "_________________________________________________________________\n",
      "dropout_10 (Dropout)         (None, 56, 56, 128)       0         \n",
      "_________________________________________________________________\n",
      "conv2d_21 (Conv2D)           (None, 56, 56, 256)       295168    \n",
      "_________________________________________________________________\n",
      "activation_74 (Activation)   (None, 56, 56, 256)       0         \n",
      "_________________________________________________________________\n",
      "global_average_pooling2d_3 ( (None, 256)               0         \n",
      "_________________________________________________________________\n",
      "dropout_11 (Dropout)         (None, 256)               0         \n",
      "_________________________________________________________________\n",
      "dense_5 (Dense)              (None, 500)               128500    \n",
      "_________________________________________________________________\n",
      "activation_75 (Activation)   (None, 500)               0         \n",
      "_________________________________________________________________\n",
      "dropout_12 (Dropout)         (None, 500)               0         \n",
      "_________________________________________________________________\n",
      "dense_6 (Dense)              (None, 133)               66633     \n",
      "_________________________________________________________________\n",
      "activation_76 (Activation)   (None, 133)               0         \n",
      "=================================================================\n",
      "Total params: 777,309\n",
      "Trainable params: 777,309\n",
      "Non-trainable params: 0\n",
      "_________________________________________________________________\n"
     ]
    }
   ],
   "source": [
    "from keras.models import Sequential\n",
    "from keras.layers import Dense, Dropout, Activation, Flatten\n",
    "from keras.layers import Conv2D, MaxPooling2D, ZeroPadding2D, GlobalMaxPooling2D, GlobalAveragePooling2D\n",
    "\n",
    "model = Sequential()\n",
    "model.add(Conv2D(32, (3, 3), padding='same',\n",
    "                 input_shape=train_tensors.shape[1:]))\n",
    "model.add(Activation('relu'))\n",
    "model.add(Conv2D(32, (3, 3), padding='same',\n",
    "                 input_shape=train_tensors.shape[1:]))\n",
    "model.add(Activation('relu'))\n",
    "model.add(Conv2D(64, (3, 3), padding='same',\n",
    "                 input_shape=train_tensors.shape[1:]))\n",
    "model.add(Activation('relu'))\n",
    "model.add(Conv2D(64, (3, 3), padding='same',\n",
    "                 input_shape=train_tensors.shape[1:]))\n",
    "model.add(Activation('relu'))\n",
    "model.add(MaxPooling2D(pool_size=(2, 2)))\n",
    "model.add(Dropout(0.25))\n",
    "\n",
    "model.add(Conv2D(128, (3, 3), padding='same',\n",
    "                 input_shape=train_tensors.shape[1:]))\n",
    "model.add(Activation('relu'))\n",
    "model.add(Conv2D(128, (3, 3), padding='same',\n",
    "                 input_shape=train_tensors.shape[1:]))\n",
    "model.add(Activation('relu'))\n",
    "\n",
    "model.add(MaxPooling2D(pool_size=(2, 2)))\n",
    "model.add(Dropout(0.25))\n",
    "\n",
    "model.add(Conv2D(256, (3, 3), padding='same',\n",
    "                 input_shape=train_tensors.shape[1:]))\n",
    "model.add(Activation('relu'))\n",
    "#model.add(GlobalMaxPooling2D())\n",
    "model.add(GlobalAveragePooling2D())\n",
    "model.add(Dropout(0.25))\n",
    "\n",
    "'''\n",
    "model.add(Conv2D(512, (3, 3), padding='same'))\n",
    "model.add(Activation('relu'))\n",
    "model.add(ZeroPadding2D((1, 1)))\n",
    "model.add(MaxPooling2D(pool_size=(2, 2)))\n",
    "model.add(Dropout(0.25))\n",
    "'''\n",
    "\n",
    "model.add(Dense(500))\n",
    "model.add(Activation('relu'))\n",
    "model.add(Dropout(0.25))\n",
    "model.add(Dense(len(dog_names)))\n",
    "model.add(Activation('softmax'))\n",
    "model.summary()"
   ]
  },
  {
   "cell_type": "markdown",
   "metadata": {},
   "source": [
    "### Compile the Model"
   ]
  },
  {
   "cell_type": "code",
   "execution_count": 23,
   "metadata": {},
   "outputs": [],
   "source": [
    "\n",
    "model.compile(optimizer='rmsprop', loss='categorical_crossentropy', metrics=['accuracy'])\n",
    "\n",
    "#from keras.optimizers import Adam\n",
    "#opt = Adam(lr=0.0001)\n",
    "\n",
    "#model.compile(loss='categorical_crossentropy',\n",
    "#              optimizer=opt,\n",
    "#              metrics=['accuracy'])"
   ]
  },
  {
   "cell_type": "markdown",
   "metadata": {},
   "source": [
    "### (IMPLEMENTATION) Train the Model\n",
    "\n",
    "Train your model in the code cell below.  Use model checkpointing to save the model that attains the best validation loss.\n",
    "\n",
    "You are welcome to [augment the training data](https://blog.keras.io/building-powerful-image-classification-models-using-very-little-data.html), but this is not a requirement. "
   ]
  },
  {
   "cell_type": "code",
   "execution_count": 24,
   "metadata": {},
   "outputs": [
    {
     "name": "stdout",
     "output_type": "stream",
     "text": [
      "conv2d_15\n",
      "LSUV initializing conv2d_15\n",
      "0.0270349\n",
      "1.0\n",
      "activation_68\n",
      "conv2d_16\n",
      "LSUV initializing conv2d_16\n",
      "0.0384202\n",
      "1.0\n",
      "activation_69\n",
      "conv2d_17\n",
      "LSUV initializing conv2d_17\n",
      "0.0165143\n",
      "1.0\n",
      "activation_70\n",
      "conv2d_18\n",
      "LSUV initializing conv2d_18\n",
      "0.013389\n",
      "1.0\n",
      "activation_71\n",
      "max_pooling2d_6\n",
      "dropout_9\n",
      "conv2d_19\n",
      "LSUV initializing conv2d_19\n",
      "0.0111222\n",
      "0.999999\n",
      "activation_72\n",
      "conv2d_20\n",
      "LSUV initializing conv2d_20\n",
      "0.00986203\n",
      "1.0\n",
      "activation_73\n",
      "max_pooling2d_7\n",
      "dropout_10\n",
      "conv2d_21\n",
      "LSUV initializing conv2d_21\n",
      "0.00720501\n",
      "0.999999\n",
      "activation_74\n",
      "global_average_pooling2d_3\n",
      "dropout_11\n",
      "dense_5\n",
      "LSUV initializing dense_5\n",
      "0.216558\n",
      "1.0\n",
      "activation_75\n",
      "dropout_12\n",
      "dense_6\n",
      "LSUV initializing dense_6\n",
      "0.522811\n",
      "1.0\n",
      "activation_76\n",
      "LSUV: total layers initialized 9\n",
      "Using real-time data augmentation.\n",
      "Epoch 1/10\n",
      "207/208 [============================>.] - ETA: 1s - loss: 4.9127 - acc: 0.0098Epoch 00001: val_loss improved from inf to 4.87631, saving model to saved_models/weights.best.from_scratch.hdf5\n",
      "208/208 [==============================] - 242s 1s/step - loss: 4.9125 - acc: 0.0101 - val_loss: 4.8763 - val_acc: 0.0132\n",
      "Epoch 2/10\n",
      "207/208 [============================>.] - ETA: 1s - loss: 4.8643 - acc: 0.0117Epoch 00002: val_loss improved from 4.87631 to 4.86659, saving model to saved_models/weights.best.from_scratch.hdf5\n",
      "208/208 [==============================] - 240s 1s/step - loss: 4.8671 - acc: 0.0116 - val_loss: 4.8666 - val_acc: 0.0120\n",
      "Epoch 3/10\n",
      "207/208 [============================>.] - ETA: 1s - loss: 4.8293 - acc: 0.0145Epoch 00003: val_loss improved from 4.86659 to 4.73853, saving model to saved_models/weights.best.from_scratch.hdf5\n",
      "208/208 [==============================] - 240s 1s/step - loss: 4.8287 - acc: 0.0144 - val_loss: 4.7385 - val_acc: 0.0240\n",
      "Epoch 4/10\n",
      "207/208 [============================>.] - ETA: 1s - loss: 4.7179 - acc: 0.0207Epoch 00004: val_loss improved from 4.73853 to 4.71092, saving model to saved_models/weights.best.from_scratch.hdf5\n",
      "208/208 [==============================] - 239s 1s/step - loss: 4.7168 - acc: 0.0206 - val_loss: 4.7109 - val_acc: 0.0180\n",
      "Epoch 5/10\n",
      "207/208 [============================>.] - ETA: 1s - loss: 4.6392 - acc: 0.0258Epoch 00005: val_loss improved from 4.71092 to 4.55805, saving model to saved_models/weights.best.from_scratch.hdf5\n",
      "208/208 [==============================] - 239s 1s/step - loss: 4.6387 - acc: 0.0261 - val_loss: 4.5581 - val_acc: 0.0395\n",
      "Epoch 6/10\n",
      "207/208 [============================>.] - ETA: 1s - loss: 4.5721 - acc: 0.0261Epoch 00006: val_loss improved from 4.55805 to 4.52411, saving model to saved_models/weights.best.from_scratch.hdf5\n",
      "208/208 [==============================] - 239s 1s/step - loss: 4.5728 - acc: 0.0260 - val_loss: 4.5241 - val_acc: 0.0407\n",
      "Epoch 7/10\n",
      "207/208 [============================>.] - ETA: 1s - loss: 4.5102 - acc: 0.0347Epoch 00007: val_loss improved from 4.52411 to 4.43676, saving model to saved_models/weights.best.from_scratch.hdf5\n",
      "208/208 [==============================] - 239s 1s/step - loss: 4.5115 - acc: 0.0346 - val_loss: 4.4368 - val_acc: 0.0455\n",
      "Epoch 8/10\n",
      "207/208 [============================>.] - ETA: 1s - loss: 4.4284 - acc: 0.0421Epoch 00008: val_loss improved from 4.43676 to 4.41015, saving model to saved_models/weights.best.from_scratch.hdf5\n",
      "208/208 [==============================] - 239s 1s/step - loss: 4.4278 - acc: 0.0420 - val_loss: 4.4101 - val_acc: 0.0383\n",
      "Epoch 9/10\n",
      "207/208 [============================>.] - ETA: 1s - loss: 4.3524 - acc: 0.0488Epoch 00009: val_loss did not improve\n",
      "208/208 [==============================] - 239s 1s/step - loss: 4.3509 - acc: 0.0490 - val_loss: 4.7874 - val_acc: 0.0455\n",
      "Epoch 10/10\n",
      "207/208 [============================>.] - ETA: 1s - loss: 4.2585 - acc: 0.0583Epoch 00010: val_loss did not improve\n",
      "208/208 [==============================] - 240s 1s/step - loss: 4.2598 - acc: 0.0580 - val_loss: 4.4194 - val_acc: 0.0395\n"
     ]
    }
   ],
   "source": [
    "from keras.preprocessing.image import ImageDataGenerator\n",
    "from keras.callbacks import ModelCheckpoint   \n",
    "batch_size = 32 \n",
    "epochs = 10\n",
    "data_augmentation = True\n",
    "# train the model\n",
    "'''\n",
    "checkpointer = ModelCheckpoint(filepath='model.weights.best.hdf5', verbose=1, \n",
    "                               save_best_only=True)\n",
    "hist = model.fit(train_tensors, train_target, batch_size=32, epochs=100,\n",
    "          validation_data=(x_valid, y_valid), callbacks=[checkpointer], \n",
    "          verbose=2, shuffle=True)\n",
    "'''\n",
    "\n",
    "model = LSUVinit(model,train_tensors[:batch_size,:,:,:]) \n",
    "#tbCallBack = keras.callbacks.TensorBoard(log_dir='./Graph2', histogram_freq=0, write_graph=True, write_images=True)\n",
    "checkpointer = ModelCheckpoint(filepath='saved_models/weights.best.from_scratch.hdf5', verbose=1, \n",
    "                               save_best_only=True)\n",
    "if not data_augmentation:\n",
    "    print('Not using data augmentation.')\n",
    "    model.fit(train_tensors, train_targets,\n",
    "              batch_size=batch_size,\n",
    "              epochs=epochs,\n",
    "              validation_data=(vaild_tensors, valid_targets),\n",
    "              shuffle=True, callbacks=checkpointer)\n",
    "else:\n",
    "    print('Using real-time data augmentation.')\n",
    "    # This will do preprocessing and realtime data augmentation:\n",
    "\n",
    "    datagen = ImageDataGenerator(\n",
    "        featurewise_center=False,  # set input mean to 0 over the dataset\n",
    "        samplewise_center=False,  # set each sample mean to 0\n",
    "        featurewise_std_normalization=False,  # divide inputs by std of the dataset\n",
    "        samplewise_std_normalization=False,  # divide each input by its std\n",
    "        zca_whitening=False,  # apply ZCA whitening\n",
    "        rotation_range=10,  # randomly rotate images in the range (degrees, 0 to 180)\n",
    "        width_shift_range=0.1,  # randomly shift images horizontally (fraction of total width)\n",
    "        height_shift_range=0.1,  # randomly shift images vertically (fraction of total height)\n",
    "        horizontal_flip=True,  # randomly flip images\n",
    "        vertical_flip=False)  # randomly flip images\n",
    "    # Compute quantities required for feature-wise normalization\n",
    "    # (std, mean, and principal components if ZCA whitening is applied).\n",
    "    datagen.fit(train_tensors)\n",
    "    # Fit the model on the batches generated by datagen.flow().\n",
    "    model.fit_generator(datagen.flow(train_tensors, train_targets,\n",
    "                                     batch_size=batch_size),\n",
    "                        steps_per_epoch=train_tensors.shape[0] // batch_size,\n",
    "                        epochs=epochs,\n",
    "                        validation_data=(valid_tensors, valid_targets), callbacks=[checkpointer])"
   ]
  },
  {
   "cell_type": "code",
   "execution_count": null,
   "metadata": {
    "collapsed": true
   },
   "outputs": [],
   "source": [
    "from keras.callbacks import ModelCheckpoint  \n",
    "\n",
    "### TODO: specify the number of epochs that you would like to use to train the model.\n",
    "\n",
    "epochs = ...\n",
    "\n",
    "### Do NOT modify the code below this line.\n",
    "\n",
    "checkpointer = ModelCheckpoint(filepath='saved_models/weights.best.from_scratch.hdf5', \n",
    "                               verbose=1, save_best_only=True)\n",
    "\n",
    "model.fit(train_tensors, train_targets, \n",
    "          validation_data=(valid_tensors, valid_targets),\n",
    "          epochs=epochs, batch_size=20, callbacks=[checkpointer], verbose=1)"
   ]
  },
  {
   "cell_type": "markdown",
   "metadata": {},
   "source": [
    "### Load the Model with the Best Validation Loss"
   ]
  },
  {
   "cell_type": "code",
   "execution_count": 25,
   "metadata": {},
   "outputs": [],
   "source": [
    "model.load_weights('saved_models/weights.best.from_scratch.hdf5')"
   ]
  },
  {
   "cell_type": "markdown",
   "metadata": {},
   "source": [
    "### Test the Model\n",
    "\n",
    "Try out your model on the test dataset of dog images.  Ensure that your test accuracy is greater than 1%."
   ]
  },
  {
   "cell_type": "code",
   "execution_count": 26,
   "metadata": {},
   "outputs": [
    {
     "name": "stdout",
     "output_type": "stream",
     "text": [
      "Test accuracy: 3.9474%\n"
     ]
    }
   ],
   "source": [
    "# get index of predicted dog breed for each image in test set\n",
    "dog_breed_predictions = [np.argmax(model.predict(np.expand_dims(tensor, axis=0))) for tensor in test_tensors]\n",
    "\n",
    "# report test accuracy\n",
    "test_accuracy = 100*np.sum(np.array(dog_breed_predictions)==np.argmax(test_targets, axis=1))/len(dog_breed_predictions)\n",
    "print('Test accuracy: %.4f%%' % test_accuracy)"
   ]
  },
  {
   "cell_type": "markdown",
   "metadata": {},
   "source": [
    "---\n",
    "<a id='step4'></a>\n",
    "## Step 4: Use a CNN to Classify Dog Breeds\n",
    "\n",
    "To reduce training time without sacrificing accuracy, we show you how to train a CNN using transfer learning.  In the following step, you will get a chance to use transfer learning to train your own CNN.\n",
    "\n",
    "### Obtain Bottleneck Features"
   ]
  },
  {
   "cell_type": "code",
   "execution_count": 18,
   "metadata": {},
   "outputs": [],
   "source": [
    "bottleneck_features = np.load('bottleneck_features/DogVGG16Data.npz')\n",
    "train_VGG16 = bottleneck_features['train']\n",
    "valid_VGG16 = bottleneck_features['valid']\n",
    "test_VGG16 = bottleneck_features['test']"
   ]
  },
  {
   "cell_type": "code",
   "execution_count": 19,
   "metadata": {},
   "outputs": [
    {
     "data": {
      "text/plain": [
       "(6680, 7, 7, 512)"
      ]
     },
     "execution_count": 19,
     "metadata": {},
     "output_type": "execute_result"
    }
   ],
   "source": [
    "train_VGG16.shape"
   ]
  },
  {
   "cell_type": "markdown",
   "metadata": {},
   "source": [
    "### Model Architecture\n",
    "\n",
    "The model uses the the pre-trained VGG-16 model as a fixed feature extractor, where the last convolutional output of VGG-16 is fed as input to our model.  We only add a global average pooling layer and a fully connected layer, where the latter contains one node for each dog category and is equipped with a softmax."
   ]
  },
  {
   "cell_type": "code",
   "execution_count": 20,
   "metadata": {},
   "outputs": [
    {
     "name": "stdout",
     "output_type": "stream",
     "text": [
      "_________________________________________________________________\n",
      "Layer (type)                 Output Shape              Param #   \n",
      "=================================================================\n",
      "global_average_pooling2d_1 ( (None, 512)               0         \n",
      "_________________________________________________________________\n",
      "dense_3 (Dense)              (None, 133)               68229     \n",
      "=================================================================\n",
      "Total params: 68,229\n",
      "Trainable params: 68,229\n",
      "Non-trainable params: 0\n",
      "_________________________________________________________________\n"
     ]
    }
   ],
   "source": [
    "from keras.layers import GlobalAveragePooling2D\n",
    "VGG16_model = Sequential()\n",
    "VGG16_model.add(GlobalAveragePooling2D(input_shape=train_VGG16.shape[1:]))\n",
    "VGG16_model.add(Dense(133, activation='softmax'))\n",
    "\n",
    "VGG16_model.summary()"
   ]
  },
  {
   "cell_type": "markdown",
   "metadata": {},
   "source": [
    "### Compile the Model"
   ]
  },
  {
   "cell_type": "code",
   "execution_count": 22,
   "metadata": {},
   "outputs": [],
   "source": [
    "VGG16_model.compile(loss='categorical_crossentropy', optimizer='rmsprop', metrics=['accuracy'])"
   ]
  },
  {
   "cell_type": "markdown",
   "metadata": {},
   "source": [
    "### Train the Model"
   ]
  },
  {
   "cell_type": "code",
   "execution_count": 29,
   "metadata": {},
   "outputs": [
    {
     "name": "stdout",
     "output_type": "stream",
     "text": [
      "Train on 6680 samples, validate on 835 samples\n",
      "Epoch 1/20\n",
      "6520/6680 [============================>.] - ETA: 0s - loss: 12.4278 - acc: 0.1101Epoch 00001: val_loss improved from inf to 11.02028, saving model to saved_models/weights.best.VGG16.hdf5\n",
      "6680/6680 [==============================] - 2s 288us/step - loss: 12.3988 - acc: 0.1114 - val_loss: 11.0203 - val_acc: 0.1964\n",
      "Epoch 2/20\n",
      "6640/6680 [============================>.] - ETA: 0s - loss: 10.5473 - acc: 0.2589Epoch 00002: val_loss improved from 11.02028 to 10.47991, saving model to saved_models/weights.best.VGG16.hdf5\n",
      "6680/6680 [==============================] - 2s 244us/step - loss: 10.5482 - acc: 0.2585 - val_loss: 10.4799 - val_acc: 0.2551\n",
      "Epoch 3/20\n",
      "6480/6680 [============================>.] - ETA: 0s - loss: 9.9968 - acc: 0.3165 Epoch 00003: val_loss improved from 10.47991 to 10.23839, saving model to saved_models/weights.best.VGG16.hdf5\n",
      "6680/6680 [==============================] - 2s 241us/step - loss: 9.9906 - acc: 0.3174 - val_loss: 10.2384 - val_acc: 0.2946\n",
      "Epoch 4/20\n",
      "6660/6680 [============================>.] - ETA: 0s - loss: 9.7905 - acc: 0.3473Epoch 00004: val_loss did not improve\n",
      "6680/6680 [==============================] - 2s 241us/step - loss: 9.7852 - acc: 0.3472 - val_loss: 10.2677 - val_acc: 0.2826\n",
      "Epoch 5/20\n",
      "6660/6680 [============================>.] - ETA: 0s - loss: 9.6577 - acc: 0.3659Epoch 00005: val_loss improved from 10.23839 to 10.08777, saving model to saved_models/weights.best.VGG16.hdf5\n",
      "6680/6680 [==============================] - 2s 241us/step - loss: 9.6531 - acc: 0.3662 - val_loss: 10.0878 - val_acc: 0.2982\n",
      "Epoch 6/20\n",
      "6460/6680 [============================>.] - ETA: 0s - loss: 9.5004 - acc: 0.3794Epoch 00006: val_loss improved from 10.08777 to 10.03900, saving model to saved_models/weights.best.VGG16.hdf5\n",
      "6680/6680 [==============================] - 2s 241us/step - loss: 9.4942 - acc: 0.3795 - val_loss: 10.0390 - val_acc: 0.2946\n",
      "Epoch 7/20\n",
      "6480/6680 [============================>.] - ETA: 0s - loss: 9.3423 - acc: 0.3900Epoch 00007: val_loss improved from 10.03900 to 9.82267, saving model to saved_models/weights.best.VGG16.hdf5\n",
      "6680/6680 [==============================] - 2s 240us/step - loss: 9.3350 - acc: 0.3903 - val_loss: 9.8227 - val_acc: 0.2994\n",
      "Epoch 8/20\n",
      "6480/6680 [============================>.] - ETA: 0s - loss: 9.1128 - acc: 0.4094Epoch 00008: val_loss improved from 9.82267 to 9.70303, saving model to saved_models/weights.best.VGG16.hdf5\n",
      "6680/6680 [==============================] - 2s 241us/step - loss: 9.1218 - acc: 0.4093 - val_loss: 9.7030 - val_acc: 0.3150\n",
      "Epoch 9/20\n",
      "6480/6680 [============================>.] - ETA: 0s - loss: 8.9639 - acc: 0.4247Epoch 00009: val_loss improved from 9.70303 to 9.53210, saving model to saved_models/weights.best.VGG16.hdf5\n",
      "6680/6680 [==============================] - 2s 240us/step - loss: 8.9838 - acc: 0.4235 - val_loss: 9.5321 - val_acc: 0.3389\n",
      "Epoch 10/20\n",
      "6460/6680 [============================>.] - ETA: 0s - loss: 8.8963 - acc: 0.4337Epoch 00010: val_loss improved from 9.53210 to 9.48608, saving model to saved_models/weights.best.VGG16.hdf5\n",
      "6680/6680 [==============================] - 2s 242us/step - loss: 8.9204 - acc: 0.4325 - val_loss: 9.4861 - val_acc: 0.3353\n",
      "Epoch 11/20\n",
      "6440/6680 [===========================>..] - ETA: 0s - loss: 8.8777 - acc: 0.4349Epoch 00011: val_loss improved from 9.48608 to 9.48527, saving model to saved_models/weights.best.VGG16.hdf5\n",
      "6680/6680 [==============================] - 2s 241us/step - loss: 8.8505 - acc: 0.4365 - val_loss: 9.4853 - val_acc: 0.3389\n",
      "Epoch 12/20\n",
      "6460/6680 [============================>.] - ETA: 0s - loss: 8.8158 - acc: 0.4421Epoch 00012: val_loss did not improve\n",
      "6680/6680 [==============================] - 2s 240us/step - loss: 8.8303 - acc: 0.4412 - val_loss: 9.5660 - val_acc: 0.3329\n",
      "Epoch 13/20\n",
      "6460/6680 [============================>.] - ETA: 0s - loss: 8.8052 - acc: 0.4481Epoch 00013: val_loss did not improve\n",
      "6680/6680 [==============================] - 2s 240us/step - loss: 8.8099 - acc: 0.4481 - val_loss: 9.5291 - val_acc: 0.3413\n",
      "Epoch 14/20\n",
      "6660/6680 [============================>.] - ETA: 0s - loss: 8.7143 - acc: 0.4449Epoch 00014: val_loss improved from 9.48527 to 9.30574, saving model to saved_models/weights.best.VGG16.hdf5\n",
      "6680/6680 [==============================] - 2s 242us/step - loss: 8.7027 - acc: 0.4457 - val_loss: 9.3057 - val_acc: 0.3413\n",
      "Epoch 15/20\n",
      "6460/6680 [============================>.] - ETA: 0s - loss: 8.4331 - acc: 0.4577Epoch 00015: val_loss improved from 9.30574 to 9.12615, saving model to saved_models/weights.best.VGG16.hdf5\n",
      "6680/6680 [==============================] - 2s 240us/step - loss: 8.4450 - acc: 0.4576 - val_loss: 9.1262 - val_acc: 0.3497\n",
      "Epoch 16/20\n",
      "6460/6680 [============================>.] - ETA: 0s - loss: 8.2606 - acc: 0.4718Epoch 00016: val_loss improved from 9.12615 to 8.97269, saving model to saved_models/weights.best.VGG16.hdf5\n",
      "6680/6680 [==============================] - 2s 241us/step - loss: 8.2614 - acc: 0.4714 - val_loss: 8.9727 - val_acc: 0.3617\n",
      "Epoch 17/20\n",
      "6460/6680 [============================>.] - ETA: 0s - loss: 8.1884 - acc: 0.4807Epoch 00017: val_loss did not improve\n",
      "6680/6680 [==============================] - 2s 241us/step - loss: 8.1944 - acc: 0.4805 - val_loss: 8.9810 - val_acc: 0.3713\n",
      "Epoch 18/20\n",
      "6460/6680 [============================>.] - ETA: 0s - loss: 8.0985 - acc: 0.4837Epoch 00018: val_loss improved from 8.97269 to 8.78881, saving model to saved_models/weights.best.VGG16.hdf5\n",
      "6680/6680 [==============================] - 2s 241us/step - loss: 8.0792 - acc: 0.4849 - val_loss: 8.7888 - val_acc: 0.3689\n",
      "Epoch 19/20\n",
      "6500/6680 [============================>.] - ETA: 0s - loss: 7.9261 - acc: 0.4957Epoch 00019: val_loss did not improve\n",
      "6680/6680 [==============================] - 2s 239us/step - loss: 7.9504 - acc: 0.4942 - val_loss: 8.8181 - val_acc: 0.3772\n",
      "Epoch 20/20\n",
      "6480/6680 [============================>.] - ETA: 0s - loss: 7.9324 - acc: 0.4991Epoch 00020: val_loss improved from 8.78881 to 8.76818, saving model to saved_models/weights.best.VGG16.hdf5\n",
      "6680/6680 [==============================] - 2s 241us/step - loss: 7.9134 - acc: 0.5003 - val_loss: 8.7682 - val_acc: 0.3940\n"
     ]
    },
    {
     "data": {
      "text/plain": [
       "<keras.callbacks.History at 0x7f081e089e10>"
      ]
     },
     "execution_count": 29,
     "metadata": {},
     "output_type": "execute_result"
    }
   ],
   "source": [
    "from keras.callbacks import ModelCheckpoint\n",
    "checkpointer = ModelCheckpoint(filepath='saved_models/weights.best.VGG16.hdf5', \n",
    "                               verbose=1, save_best_only=True)\n",
    "\n",
    "VGG16_model.fit(train_VGG16, train_targets, \n",
    "          validation_data=(valid_VGG16, valid_targets),\n",
    "          epochs=20, batch_size=20, callbacks=[checkpointer], verbose=1)"
   ]
  },
  {
   "cell_type": "markdown",
   "metadata": {},
   "source": [
    "### Load the Model with the Best Validation Loss"
   ]
  },
  {
   "cell_type": "code",
   "execution_count": 23,
   "metadata": {},
   "outputs": [],
   "source": [
    "VGG16_model.load_weights('saved_models/weights.best.VGG16.hdf5')"
   ]
  },
  {
   "cell_type": "markdown",
   "metadata": {},
   "source": [
    "### Test the Model\n",
    "\n",
    "Now, we can use the CNN to test how well it identifies breed within our test dataset of dog images.  We print the test accuracy below."
   ]
  },
  {
   "cell_type": "code",
   "execution_count": 24,
   "metadata": {},
   "outputs": [
    {
     "name": "stdout",
     "output_type": "stream",
     "text": [
      "Test accuracy: 39.9522%\n"
     ]
    }
   ],
   "source": [
    "# get index of predicted dog breed for each image in test set\n",
    "VGG16_predictions = [np.argmax(VGG16_model.predict(np.expand_dims(feature, axis=0))) for feature in test_VGG16]\n",
    "\n",
    "# report test accuracy\n",
    "test_accuracy = 100*np.sum(np.array(VGG16_predictions)==np.argmax(test_targets, axis=1))/len(VGG16_predictions)\n",
    "print('Test accuracy: %.4f%%' % test_accuracy)"
   ]
  },
  {
   "cell_type": "markdown",
   "metadata": {},
   "source": [
    "### Predict Dog Breed with the Model"
   ]
  },
  {
   "cell_type": "code",
   "execution_count": 25,
   "metadata": {},
   "outputs": [],
   "source": [
    "from extract_bottleneck_features import *\n",
    "\n",
    "def VGG16_predict_breed(img_path):\n",
    "    # extract bottleneck features\n",
    "    bottleneck_feature = extract_VGG16(path_to_tensor(img_path))\n",
    "    # obtain predicted vector\n",
    "    predicted_vector = VGG16_model.predict(bottleneck_feature)\n",
    "    return predicted_vector\n",
    "    # return dog breed that is predicted by the model\n",
    "    #return dog_names[np.argmax(predicted_vector)]\n",
    "\n",
    "#np.argmax(test_targets[1])==np.argmax(VGG16_predict_breed(test_files[1]))\n"
   ]
  },
  {
   "cell_type": "code",
   "execution_count": 26,
   "metadata": {},
   "outputs": [
    {
     "name": "stdout",
     "output_type": "stream",
     "text": [
      "Downloading data from https://github.com/fchollet/deep-learning-models/releases/download/v0.1/vgg16_weights_tf_dim_ordering_tf_kernels_notop.h5\n",
      "58892288/58889256 [==============================] - 2s 0us/step\n",
      "40\n"
     ]
    }
   ],
   "source": [
    "dbreed_detects =  0\n",
    "i = 0\n",
    "#for dog in enumerate(test_files[:1]):\n",
    "for dog in test_files[:100]:    \n",
    "    if np.argmax(VGG16_predict_breed(dog)) == np.argmax(test_targets[i]):\n",
    "        dbreed_detects += 1\n",
    "    i+=1 \n",
    "\n",
    "print(dbreed_detects)\n"
   ]
  },
  {
   "cell_type": "markdown",
   "metadata": {},
   "source": [
    "---\n",
    "<a id='step5'></a>\n",
    "## Step 5: Create a CNN to Classify Dog Breeds (using Transfer Learning)\n",
    "\n",
    "You will now use transfer learning to create a CNN that can identify dog breed from images.  Your CNN must attain at least 60% accuracy on the test set.\n",
    "\n",
    "In Step 4, we used transfer learning to create a CNN using VGG-16 bottleneck features.  In this section, you must use the bottleneck features from a different pre-trained model.  To make things easier for you, we have pre-computed the features for all of the networks that are currently available in Keras:\n",
    "- [VGG-19](https://s3-us-west-1.amazonaws.com/udacity-aind/dog-project/DogVGG19Data.npz) bottleneck features\n",
    "- [ResNet-50](https://s3-us-west-1.amazonaws.com/udacity-aind/dog-project/DogResnet50Data.npz) bottleneck features\n",
    "- [Inception](https://s3-us-west-1.amazonaws.com/udacity-aind/dog-project/DogInceptionV3Data.npz) bottleneck features\n",
    "- [Xception](https://s3-us-west-1.amazonaws.com/udacity-aind/dog-project/DogXceptionData.npz) bottleneck features\n",
    "\n",
    "The files are encoded as such:\n",
    "\n",
    "    Dog{network}Data.npz\n",
    "    \n",
    "where `{network}`, in the above filename, can be one of `VGG19`, `Resnet50`, `InceptionV3`, or `Xception`.  Pick one of the above architectures, download the corresponding bottleneck features, and store the downloaded file in the `bottleneck_features/` folder in the repository.\n",
    "\n",
    "### (IMPLEMENTATION) Obtain Bottleneck Features\n",
    "\n",
    "In the code block below, extract the bottleneck features corresponding to the train, test, and validation sets by running the following:\n",
    "\n",
    "    bottleneck_features = np.load('bottleneck_features/Dog{network}Data.npz')\n",
    "    train_{network} = bottleneck_features['train']\n",
    "    valid_{network} = bottleneck_features['valid']\n",
    "    test_{network} = bottleneck_features['test']"
   ]
  },
  {
   "cell_type": "code",
   "execution_count": 27,
   "metadata": {},
   "outputs": [
    {
     "name": "stdout",
     "output_type": "stream",
     "text": [
      "downloading with urllib\n",
      "downloading with urllib\n",
      "downloading with urllib\n"
     ]
    },
    {
     "data": {
      "text/plain": [
       "('bottleneck_features/DogResnet50Data.npz',\n",
       " <http.client.HTTPMessage at 0x7fd4ff11a9e8>)"
      ]
     },
     "execution_count": 27,
     "metadata": {},
     "output_type": "execute_result"
    }
   ],
   "source": [
    "\n",
    "### TODO: Obtain bottleneck features from another pre-trained CNN.\n",
    "# Python 3 code\n",
    "import urllib.request, urllib.parse, urllib.error\n",
    " \n",
    "url = 'https://s3-us-west-1.amazonaws.com/udacity-aind/dog-project/DogXceptionData.npz'\n",
    " \n",
    "print(\"downloading with urllib\")\n",
    "urllib.request.urlretrieve(url, 'bottleneck_features/DogXceptionData.npz')\n",
    "\n",
    "url = 'https://s3-us-west-1.amazonaws.com/udacity-aind/dog-project/DogInceptionV3Data.npz'\n",
    " \n",
    "print(\"downloading with urllib\")\n",
    "urllib.request.urlretrieve(url, 'bottleneck_features/DogInceptionV3Data.npz')\n",
    "\n",
    "url = 'https://s3-us-west-1.amazonaws.com/udacity-aind/dog-project/DogResnet50Data.npz'\n",
    " \n",
    "print(\"downloading with urllib\")\n",
    "urllib.request.urlretrieve(url, 'bottleneck_features/DogResnet50Data.npz')\n"
   ]
  },
  {
   "cell_type": "code",
   "execution_count": 28,
   "metadata": {},
   "outputs": [],
   "source": [
    "### transfer learning from Xception model, use the bottleneck_features from Xception model \n",
    "\n",
    "bottleneck_features = np.load('bottleneck_features//DogXceptionData.npz')\n",
    "train_Xception = bottleneck_features['train']\n",
    "valid_Xception = bottleneck_features['valid']\n",
    "test_Xception = bottleneck_features['test']\n"
   ]
  },
  {
   "cell_type": "markdown",
   "metadata": {},
   "source": [
    "### (IMPLEMENTATION) Model Architecture\n",
    "\n",
    "Create a CNN to classify dog breed.  At the end of your code cell block, summarize the layers of your model by executing the line:\n",
    "    \n",
    "        <your model's name>.summary()\n",
    "   \n",
    "__Question 5:__ Outline the steps you took to get to your final CNN architecture and your reasoning at each step.  Describe why you think the architecture is suitable for the current problem.\n",
    "\n",
    "__Answer:__ \n",
    "\n"
   ]
  },
  {
   "cell_type": "code",
   "execution_count": 29,
   "metadata": {},
   "outputs": [
    {
     "name": "stdout",
     "output_type": "stream",
     "text": [
      "_________________________________________________________________\n",
      "Layer (type)                 Output Shape              Param #   \n",
      "=================================================================\n",
      "global_average_pooling2d_4 ( (None, 2048)              0         \n",
      "_________________________________________________________________\n",
      "dense_7 (Dense)              (None, 133)               272517    \n",
      "=================================================================\n",
      "Total params: 272,517\n",
      "Trainable params: 272,517\n",
      "Non-trainable params: 0\n",
      "_________________________________________________________________\n"
     ]
    }
   ],
   "source": [
    "### TODO: Define your architecture.\n",
    "from keras.layers import GlobalAveragePooling2D\n",
    "Xception_model = Sequential()\n",
    "Xception_model.add(GlobalAveragePooling2D(input_shape=train_Xception.shape[1:]))\n",
    "Xception_model.add(Dense(133, activation='softmax'))\n",
    "\n",
    "Xception_model.summary()"
   ]
  },
  {
   "cell_type": "markdown",
   "metadata": {},
   "source": [
    "### (IMPLEMENTATION) Compile the Model"
   ]
  },
  {
   "cell_type": "code",
   "execution_count": 30,
   "metadata": {},
   "outputs": [],
   "source": [
    "### TODO: Compile the model.\n",
    "Xception_model.compile(loss='categorical_crossentropy', optimizer='rmsprop', metrics=['accuracy'])"
   ]
  },
  {
   "cell_type": "markdown",
   "metadata": {},
   "source": [
    "### (IMPLEMENTATION) Train the Model\n",
    "\n",
    "Train your model in the code cell below.  Use model checkpointing to save the model that attains the best validation loss.  \n",
    "\n",
    "You are welcome to [augment the training data](https://blog.keras.io/building-powerful-image-classification-models-using-very-little-data.html), but this is not a requirement. "
   ]
  },
  {
   "cell_type": "code",
   "execution_count": 31,
   "metadata": {},
   "outputs": [
    {
     "name": "stdout",
     "output_type": "stream",
     "text": [
      "Train on 6680 samples, validate on 835 samples\n",
      "Epoch 1/20\n",
      "6660/6680 [============================>.] - ETA: 0s - loss: 1.0630 - acc: 0.7404Epoch 00001: val_loss improved from inf to 0.52514, saving model to saved_models/weights.best.Xception.hdf5\n",
      "6680/6680 [==============================] - 3s 436us/step - loss: 1.0607 - acc: 0.7407 - val_loss: 0.5251 - val_acc: 0.8311\n",
      "Epoch 2/20\n",
      "6580/6680 [============================>.] - ETA: 0s - loss: 0.3934 - acc: 0.8751Epoch 00002: val_loss improved from 0.52514 to 0.47656, saving model to saved_models/weights.best.Xception.hdf5\n",
      "6680/6680 [==============================] - 2s 365us/step - loss: 0.3972 - acc: 0.8737 - val_loss: 0.4766 - val_acc: 0.8395\n",
      "Epoch 3/20\n",
      "6580/6680 [============================>.] - ETA: 0s - loss: 0.3214 - acc: 0.8991Epoch 00003: val_loss did not improve\n",
      "6680/6680 [==============================] - 3s 376us/step - loss: 0.3208 - acc: 0.8991 - val_loss: 0.5005 - val_acc: 0.8599\n",
      "Epoch 4/20\n",
      "6540/6680 [============================>.] - ETA: 0s - loss: 0.2773 - acc: 0.9173Epoch 00004: val_loss did not improve\n",
      "6680/6680 [==============================] - 3s 394us/step - loss: 0.2793 - acc: 0.9172 - val_loss: 0.4896 - val_acc: 0.8503\n",
      "Epoch 5/20\n",
      "6660/6680 [============================>.] - ETA: 0s - loss: 0.2455 - acc: 0.9228Epoch 00005: val_loss did not improve\n",
      "6680/6680 [==============================] - 3s 391us/step - loss: 0.2453 - acc: 0.9228 - val_loss: 0.5050 - val_acc: 0.8551\n",
      "Epoch 6/20\n",
      "6540/6680 [============================>.] - ETA: 0s - loss: 0.2140 - acc: 0.9353Epoch 00006: val_loss did not improve\n",
      "6680/6680 [==============================] - 3s 392us/step - loss: 0.2155 - acc: 0.9347 - val_loss: 0.5357 - val_acc: 0.8611\n",
      "Epoch 7/20\n",
      "6620/6680 [============================>.] - ETA: 0s - loss: 0.1931 - acc: 0.9385Epoch 00007: val_loss did not improve\n",
      "6680/6680 [==============================] - 3s 391us/step - loss: 0.1941 - acc: 0.9383 - val_loss: 0.5403 - val_acc: 0.8635\n",
      "Epoch 8/20\n",
      "6640/6680 [============================>.] - ETA: 0s - loss: 0.1770 - acc: 0.9465Epoch 00008: val_loss did not improve\n",
      "6680/6680 [==============================] - 3s 394us/step - loss: 0.1771 - acc: 0.9466 - val_loss: 0.5425 - val_acc: 0.8587\n",
      "Epoch 9/20\n",
      "6660/6680 [============================>.] - ETA: 0s - loss: 0.1618 - acc: 0.9506Epoch 00009: val_loss did not improve\n",
      "6680/6680 [==============================] - 3s 394us/step - loss: 0.1614 - acc: 0.9507 - val_loss: 0.5389 - val_acc: 0.8635\n",
      "Epoch 10/20\n",
      "6660/6680 [============================>.] - ETA: 0s - loss: 0.1464 - acc: 0.9554Epoch 00010: val_loss did not improve\n",
      "6680/6680 [==============================] - 3s 395us/step - loss: 0.1467 - acc: 0.9552 - val_loss: 0.5749 - val_acc: 0.8575\n",
      "Epoch 11/20\n",
      "6580/6680 [============================>.] - ETA: 0s - loss: 0.1352 - acc: 0.9593Epoch 00011: val_loss did not improve\n",
      "6680/6680 [==============================] - 3s 390us/step - loss: 0.1345 - acc: 0.9591 - val_loss: 0.6013 - val_acc: 0.8527\n",
      "Epoch 12/20\n",
      "6560/6680 [============================>.] - ETA: 0s - loss: 0.1279 - acc: 0.9636Epoch 00012: val_loss did not improve\n",
      "6680/6680 [==============================] - 3s 391us/step - loss: 0.1261 - acc: 0.9642 - val_loss: 0.5567 - val_acc: 0.8671\n",
      "Epoch 13/20\n",
      "6660/6680 [============================>.] - ETA: 0s - loss: 0.1153 - acc: 0.9643Epoch 00013: val_loss did not improve\n",
      "6680/6680 [==============================] - 3s 391us/step - loss: 0.1150 - acc: 0.9644 - val_loss: 0.6083 - val_acc: 0.8599\n",
      "Epoch 14/20\n",
      "6520/6680 [============================>.] - ETA: 0s - loss: 0.1085 - acc: 0.9670Epoch 00014: val_loss did not improve\n",
      "6680/6680 [==============================] - 3s 390us/step - loss: 0.1096 - acc: 0.9668 - val_loss: 0.6084 - val_acc: 0.8575\n",
      "Epoch 15/20\n",
      "6520/6680 [============================>.] - ETA: 0s - loss: 0.1035 - acc: 0.9690Epoch 00015: val_loss did not improve\n",
      "6680/6680 [==============================] - 3s 384us/step - loss: 0.1028 - acc: 0.9693 - val_loss: 0.6227 - val_acc: 0.8611\n",
      "Epoch 16/20\n",
      "6580/6680 [============================>.] - ETA: 0s - loss: 0.0933 - acc: 0.9726Epoch 00016: val_loss did not improve\n",
      "6680/6680 [==============================] - 2s 364us/step - loss: 0.0929 - acc: 0.9726 - val_loss: 0.6056 - val_acc: 0.8575\n",
      "Epoch 17/20\n",
      "6580/6680 [============================>.] - ETA: 0s - loss: 0.0901 - acc: 0.9737Epoch 00017: val_loss did not improve\n",
      "6680/6680 [==============================] - 2s 365us/step - loss: 0.0895 - acc: 0.9738 - val_loss: 0.6487 - val_acc: 0.8551\n",
      "Epoch 18/20\n",
      "6580/6680 [============================>.] - ETA: 0s - loss: 0.0840 - acc: 0.9767Epoch 00018: val_loss did not improve\n",
      "6680/6680 [==============================] - 2s 365us/step - loss: 0.0847 - acc: 0.9766 - val_loss: 0.6654 - val_acc: 0.8539\n",
      "Epoch 19/20\n",
      "6580/6680 [============================>.] - ETA: 0s - loss: 0.0806 - acc: 0.9772Epoch 00019: val_loss did not improve\n",
      "6680/6680 [==============================] - 2s 362us/step - loss: 0.0802 - acc: 0.9774 - val_loss: 0.6791 - val_acc: 0.8563\n",
      "Epoch 20/20\n",
      "6580/6680 [============================>.] - ETA: 0s - loss: 0.0712 - acc: 0.9783Epoch 00020: val_loss did not improve\n",
      "6680/6680 [==============================] - 2s 365us/step - loss: 0.0736 - acc: 0.9780 - val_loss: 0.7009 - val_acc: 0.8587\n"
     ]
    },
    {
     "data": {
      "text/plain": [
       "<keras.callbacks.History at 0x7fd4d1ebff28>"
      ]
     },
     "execution_count": 31,
     "metadata": {},
     "output_type": "execute_result"
    }
   ],
   "source": [
    "### TODO: Train the model.\n",
    "from keras.callbacks import ModelCheckpoint\n",
    "checkpointer = ModelCheckpoint(filepath='saved_models/weights.best.Xception.hdf5', \n",
    "                               verbose=1, save_best_only=True)\n",
    "\n",
    "Xception_model.fit(train_Xception, train_targets, \n",
    "          validation_data=(valid_Xception, valid_targets),\n",
    "          epochs=20, batch_size=20, callbacks=[checkpointer], verbose=1)"
   ]
  },
  {
   "cell_type": "markdown",
   "metadata": {},
   "source": [
    "### (IMPLEMENTATION) Load the Model with the Best Validation Loss"
   ]
  },
  {
   "cell_type": "code",
   "execution_count": 32,
   "metadata": {},
   "outputs": [],
   "source": [
    "### TODO: Load the model weights with the best validation loss.\n",
    "Xception_model.load_weights('saved_models/weights.best.Xception.hdf5')"
   ]
  },
  {
   "cell_type": "markdown",
   "metadata": {},
   "source": [
    "### (IMPLEMENTATION) Test the Model\n",
    "\n",
    "Try out your model on the test dataset of dog images. Ensure that your test accuracy is greater than 60%."
   ]
  },
  {
   "cell_type": "code",
   "execution_count": 33,
   "metadata": {},
   "outputs": [
    {
     "name": "stdout",
     "output_type": "stream",
     "text": [
      "Test accuracy: 84.3301%\n"
     ]
    }
   ],
   "source": [
    "### TODO: Calculate classification accuracy on the test dataset.\n",
    "# get index of predicted dog breed for each image in test set\n",
    "Xception_predictions = [np.argmax(Xception_model.predict(np.expand_dims(feature, axis=0))) for feature in test_Xception]\n",
    "\n",
    "# report test accuracy\n",
    "test_accuracy = 100*np.sum(np.array(Xception_predictions)==np.argmax(test_targets, axis=1))/len(Xception_predictions)\n",
    "print('Test accuracy: %.4f%%' % test_accuracy)\n"
   ]
  },
  {
   "cell_type": "code",
   "execution_count": 34,
   "metadata": {},
   "outputs": [],
   "source": [
    "# save Xception model\n",
    "Xception_model.save('saved_models/my_Xception_model.h5')"
   ]
  },
  {
   "cell_type": "code",
   "execution_count": 35,
   "metadata": {},
   "outputs": [
    {
     "name": "stderr",
     "output_type": "stream",
     "text": [
      "100%|██████████| 6680/6680 [01:28<00:00, 75.13it/s] \n",
      "100%|██████████| 835/835 [00:15<00:00, 53.26it/s] \n",
      "100%|██████████| 836/836 [00:10<00:00, 82.42it/s] \n"
     ]
    }
   ],
   "source": [
    "# create a 2nd Xception model using image aumentation, need to use the preprocess the image first\n",
    "\n",
    "from keras.applications.xception import Xception, preprocess_input\n",
    "from keras.preprocessing import image                  \n",
    "from tqdm import tqdm\n",
    "\n",
    "def path_to_process_tensor(img_path):\n",
    "    # loads RGB image as PIL.Image.Image type\n",
    "    img = image.load_img(img_path, target_size=(224, 224))\n",
    "    # convert PIL.Image.Image type to 3D tensor with shape (224, 224, 3)\n",
    "    x = image.img_to_array(img)\n",
    "    x = np.expand_dims(x, axis=0)\n",
    "    # convert 3D tensor to 4D tensor with shape (1, 224, 224, 3) and return 4D tensor\n",
    "    return preprocess_input(x)\n",
    "\n",
    "def paths_to_process_tensor(img_paths):\n",
    "    list_of_process_tensors = [path_to_process_tensor(img_path) for img_path in tqdm(img_paths)]\n",
    "    return np.vstack(list_of_process_tensors)\n",
    "\n",
    "\n",
    "# pre-process the data for Xception model 2\n",
    "train_process_tensors = paths_to_process_tensor(train_files).astype('float32')\n",
    "valid_process_tensors = paths_to_process_tensor(valid_files).astype('float32')\n",
    "test_process_tensors = paths_to_process_tensor(test_files).astype('float32')\n"
   ]
  },
  {
   "cell_type": "code",
   "execution_count": 36,
   "metadata": {},
   "outputs": [
    {
     "name": "stdout",
     "output_type": "stream",
     "text": [
      "Downloading data from https://github.com/fchollet/deep-learning-models/releases/download/v0.4/xception_weights_tf_dim_ordering_tf_kernels_notop.h5\n",
      "83689472/83683744 [==============================] - 2s 0us/step\n",
      "_________________________________________________________________\n",
      "Layer (type)                 Output Shape              Param #   \n",
      "=================================================================\n",
      "xception (Model)             (None, 7, 7, 2048)        20861480  \n",
      "_________________________________________________________________\n",
      "global_average_pooling2d_5 ( (None, 2048)              0         \n",
      "_________________________________________________________________\n",
      "dense_8 (Dense)              (None, 133)               272517    \n",
      "=================================================================\n",
      "Total params: 21,133,997\n",
      "Trainable params: 272,517\n",
      "Non-trainable params: 20,861,480\n",
      "_________________________________________________________________\n"
     ]
    }
   ],
   "source": [
    "# create a 2nd Xception model and train with image augmentation\n",
    "\n",
    "from keras.applications.xception import Xception\n",
    "\n",
    "Xception_model2 = Sequential()\n",
    "Xception_model2.add(Xception(weights='imagenet', include_top=False, input_shape=train_process_tensors.shape[1:]))\n",
    "for layer in Xception_model2.layers:\n",
    "    layer.trainable = False\n",
    "Xception_model2.add(GlobalAveragePooling2D())\n",
    "Xception_model2.add(Dense(133, activation='softmax'))\n",
    "\n",
    "Xception_model2.summary()\n"
   ]
  },
  {
   "cell_type": "code",
   "execution_count": 37,
   "metadata": {},
   "outputs": [
    {
     "name": "stdout",
     "output_type": "stream",
     "text": [
      "Using real-time data augmentation.\n",
      "Epoch 1/10\n",
      "166/167 [============================>.] - ETA: 1s - loss: 1.9103 - acc: 0.5114Epoch 00001: val_loss improved from inf to 2.66204, saving model to saved_models/weights.best.Xception2.hdf5\n",
      "167/167 [==============================] - 280s 2s/step - loss: 1.9066 - acc: 0.5120 - val_loss: 2.6620 - val_acc: 0.4515\n",
      "Epoch 2/10\n",
      "166/167 [============================>.] - ETA: 1s - loss: 0.9084 - acc: 0.7170Epoch 00002: val_loss improved from 2.66204 to 1.77094, saving model to saved_models/weights.best.Xception2.hdf5\n",
      "167/167 [==============================] - 276s 2s/step - loss: 0.9084 - acc: 0.7172 - val_loss: 1.7709 - val_acc: 0.5509\n",
      "Epoch 3/10\n",
      "166/167 [============================>.] - ETA: 1s - loss: 0.6650 - acc: 0.7922Epoch 00003: val_loss did not improve\n",
      "167/167 [==============================] - 275s 2s/step - loss: 0.6646 - acc: 0.7922 - val_loss: 2.3092 - val_acc: 0.6048\n",
      "Epoch 4/10\n",
      "166/167 [============================>.] - ETA: 1s - loss: 0.5650 - acc: 0.8199Epoch 00004: val_loss did not improve\n",
      "167/167 [==============================] - 275s 2s/step - loss: 0.5659 - acc: 0.8193 - val_loss: 1.9084 - val_acc: 0.6287\n",
      "Epoch 5/10\n",
      "166/167 [============================>.] - ETA: 1s - loss: 0.4604 - acc: 0.8485Epoch 00005: val_loss improved from 1.77094 to 1.70044, saving model to saved_models/weights.best.Xception2.hdf5\n",
      "167/167 [==============================] - 277s 2s/step - loss: 0.4609 - acc: 0.8479 - val_loss: 1.7004 - val_acc: 0.6647\n",
      "Epoch 6/10\n",
      "166/167 [============================>.] - ETA: 1s - loss: 0.4161 - acc: 0.8670Epoch 00006: val_loss did not improve\n",
      "167/167 [==============================] - 275s 2s/step - loss: 0.4165 - acc: 0.8671 - val_loss: 2.1820 - val_acc: 0.6263\n",
      "Epoch 7/10\n",
      "166/167 [============================>.] - ETA: 1s - loss: 0.3647 - acc: 0.8866Epoch 00007: val_loss did not improve\n",
      "167/167 [==============================] - 275s 2s/step - loss: 0.3643 - acc: 0.8867 - val_loss: 1.7683 - val_acc: 0.7174\n",
      "Epoch 8/10\n",
      "166/167 [============================>.] - ETA: 1s - loss: 0.3187 - acc: 0.8937Epoch 00008: val_loss did not improve\n",
      "167/167 [==============================] - 275s 2s/step - loss: 0.3176 - acc: 0.8940 - val_loss: 2.1210 - val_acc: 0.6503\n",
      "Epoch 9/10\n",
      "166/167 [============================>.] - ETA: 1s - loss: 0.2990 - acc: 0.9071Epoch 00009: val_loss did not improve\n",
      "167/167 [==============================] - 276s 2s/step - loss: 0.2983 - acc: 0.9072 - val_loss: 1.8847 - val_acc: 0.6599\n",
      "Epoch 10/10\n",
      "166/167 [============================>.] - ETA: 1s - loss: 0.2578 - acc: 0.9175Epoch 00010: val_loss did not improve\n",
      "167/167 [==============================] - 276s 2s/step - loss: 0.2589 - acc: 0.9169 - val_loss: 1.8854 - val_acc: 0.7030\n"
     ]
    }
   ],
   "source": [
    "### TODO: Compile the model.\n",
    "Xception_model2.compile(loss='categorical_crossentropy', optimizer='rmsprop', metrics=['accuracy'])\n",
    "from keras.preprocessing.image import ImageDataGenerator\n",
    "from keras.callbacks import ModelCheckpoint   \n",
    "batch_size = 40 \n",
    "epochs = 10\n",
    "data_augmentation = True\n",
    "# train the model\n",
    "\n",
    "checkpointer = ModelCheckpoint(filepath='saved_models/weights.best.Xception2.hdf5', verbose=1, \n",
    "                               save_best_only=True)\n",
    "if not data_augmentation:\n",
    "    print('Not using data augmentation.')\n",
    "    Xception_model2.fit(train_process_tensors, train_targets,\n",
    "              batch_size=batch_size,\n",
    "              epochs=epochs,\n",
    "              validation_data=(vaild_process_tensors, valid_targets),\n",
    "              shuffle=True, callbacks=[checkpointer])\n",
    "else:\n",
    "    print('Using real-time data augmentation.')\n",
    "    # This will do preprocessing and realtime data augmentation:\n",
    "\n",
    "    datagen = ImageDataGenerator(\n",
    "        featurewise_center=False,  # set input mean to 0 over the dataset\n",
    "        samplewise_center=False,  # set each sample mean to 0\n",
    "        featurewise_std_normalization=False,  # divide inputs by std of the dataset\n",
    "        samplewise_std_normalization=False,  # divide each input by its std\n",
    "        zca_whitening=False,  # apply ZCA whitening\n",
    "        rotation_range=10,  # randomly rotate images in the range (degrees, 0 to 180)\n",
    "        width_shift_range=0.2,  # randomly shift images horizontally (fraction of total width)\n",
    "        height_shift_range=0.2,  # randomly shift images vertically (fraction of total height)\n",
    "        horizontal_flip=True,  # randomly flip images\n",
    "        vertical_flip=False)  # randomly flip images\n",
    "    # Compute quantities required for feature-wise normalization\n",
    "    # (std, mean, and principal components if ZCA whitening is applied).\n",
    "    datagen.fit(train_process_tensors)\n",
    "    # Fit the model on the batches generated by datagen.flow().\n",
    "    Xception_model2.fit_generator(datagen.flow(train_process_tensors, train_targets,\n",
    "                                     batch_size=batch_size),\n",
    "                        steps_per_epoch=train_process_tensors.shape[0] // batch_size,\n",
    "                        epochs=epochs,\n",
    "                        validation_data=(valid_process_tensors, valid_targets), callbacks=[checkpointer])\n"
   ]
  },
  {
   "cell_type": "markdown",
   "metadata": {},
   "source": [
    "### (IMPLEMENTATION) Predict Dog Breed with the Model\n",
    "\n",
    "Write a function that takes an image path as input and returns the dog breed (`Affenpinscher`, `Afghan_hound`, etc) that is predicted by your model.  \n",
    "\n",
    "Similar to the analogous function in Step 5, your function should have three steps:\n",
    "1. Extract the bottleneck features corresponding to the chosen CNN model.\n",
    "2. Supply the bottleneck features as input to the model to return the predicted vector.  Note that the argmax of this prediction vector gives the index of the predicted dog breed.\n",
    "3. Use the `dog_names` array defined in Step 0 of this notebook to return the corresponding breed.\n",
    "\n",
    "The functions to extract the bottleneck features can be found in `extract_bottleneck_features.py`, and they have been imported in an earlier code cell.  To obtain the bottleneck features corresponding to your chosen CNN architecture, you need to use the function\n",
    "\n",
    "    extract_{network}\n",
    "    \n",
    "where `{network}`, in the above filename, should be one of `VGG19`, `Resnet50`, `InceptionV3`, or `Xception`."
   ]
  },
  {
   "cell_type": "code",
   "execution_count": null,
   "metadata": {
    "collapsed": true
   },
   "outputs": [],
   "source": [
    "### TODO: Write a function that takes a path to an image as input\n",
    "### and returns the dog breed that is predicted by the model."
   ]
  },
  {
   "cell_type": "markdown",
   "metadata": {},
   "source": [
    "---\n",
    "<a id='step6'></a>\n",
    "## Step 6: Write your Algorithm\n",
    "\n",
    "Write an algorithm that accepts a file path to an image and first determines whether the image contains a human, dog, or neither.  Then,\n",
    "- if a __dog__ is detected in the image, return the predicted breed.\n",
    "- if a __human__ is detected in the image, return the resembling dog breed.\n",
    "- if __neither__ is detected in the image, provide output that indicates an error.\n",
    "\n",
    "You are welcome to write your own functions for detecting humans and dogs in images, but feel free to use the `face_detector` and `dog_detector` functions developed above.  You are __required__ to use your CNN from Step 5 to predict dog breed.  \n",
    "\n",
    "Some sample output for our algorithm is provided below, but feel free to design your own user experience!\n",
    "\n",
    "![Sample Human Output](images/sample_human_output.png)\n",
    "\n",
    "\n",
    "### (IMPLEMENTATION) Write your Algorithm"
   ]
  },
  {
   "cell_type": "code",
   "execution_count": null,
   "metadata": {
    "collapsed": true
   },
   "outputs": [],
   "source": [
    "### TODO: Write your algorithm.\n",
    "### Feel free to use as many code cells as needed."
   ]
  },
  {
   "cell_type": "markdown",
   "metadata": {},
   "source": [
    "---\n",
    "<a id='step7'></a>\n",
    "## Step 7: Test Your Algorithm\n",
    "\n",
    "In this section, you will take your new algorithm for a spin!  What kind of dog does the algorithm think that __you__ look like?  If you have a dog, does it predict your dog's breed accurately?  If you have a cat, does it mistakenly think that your cat is a dog?\n",
    "\n",
    "### (IMPLEMENTATION) Test Your Algorithm on Sample Images!\n",
    "\n",
    "Test your algorithm at least six images on your computer.  Feel free to use any images you like.  Use at least two human and two dog images.  \n",
    "\n",
    "__Question 6:__ Is the output better than you expected :) ?  Or worse :( ?  Provide at least three possible points of improvement for your algorithm.\n",
    "\n",
    "__Answer:__ "
   ]
  },
  {
   "cell_type": "code",
   "execution_count": null,
   "metadata": {
    "collapsed": true
   },
   "outputs": [],
   "source": [
    "## TODO: Execute your algorithm from Step 6 on\n",
    "## at least 6 images on your computer.\n",
    "## Feel free to use as many code cells as needed."
   ]
  },
  {
   "cell_type": "markdown",
   "metadata": {},
   "source": [
    "# Please download your notebook to submit"
   ]
  },
  {
   "cell_type": "code",
   "execution_count": null,
   "metadata": {},
   "outputs": [],
   "source": []
  }
 ],
 "metadata": {
  "anaconda-cloud": {},
  "kernelspec": {
   "display_name": "Python 3",
   "language": "python",
   "name": "python3"
  },
  "language_info": {
   "codemirror_mode": {
    "name": "ipython",
    "version": 3
   },
   "file_extension": ".py",
   "mimetype": "text/x-python",
   "name": "python",
   "nbconvert_exporter": "python",
   "pygments_lexer": "ipython3",
   "version": "3.6.3"
  }
 },
 "nbformat": 4,
 "nbformat_minor": 1
}
